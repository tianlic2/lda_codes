{
 "cells": [
  {
   "cell_type": "code",
   "execution_count": null,
   "metadata": {},
   "outputs": [],
   "source": [
    "import pandas as pd\n",
    "text = pd.read_csv('Raw tweets_December_8:37AM.csv')\n",
    "tweets = []\n",
    "date = []\n",
    "Company = []\n",
    "for i,v in text.iterrows():\n",
    "    if v['Company'] != 'Ethicameat':#這家company的tweets是非英文\n",
    "        if v['Company'] != 'High Steaks':#當時獲取tweets username的時候錯誤地找了這一個，實際上higher steaks的帳號是另一個\n",
    "            tweets.append(v['tweets'])\n",
    "            date.append(v['date'])\n",
    "            Company.append(v['Company'])\n",
    "newfile = pd.DataFrame(data=[i for i in tweets],columns=['tweets'])\n",
    "newfile['date']=[i for i in date]\n",
    "newfile['Company']=[i for i in Company]\n",
    "newfile.to_csv('Raw tweets_December_8:37AM_updated.csv',index=False)"
   ]
  }
 ],
 "metadata": {
  "kernelspec": {
   "display_name": "Python 3",
   "language": "python",
   "name": "python3"
  },
  "language_info": {
   "codemirror_mode": {
    "name": "ipython",
    "version": 3
   },
   "file_extension": ".py",
   "mimetype": "text/x-python",
   "name": "python",
   "nbconvert_exporter": "python",
   "pygments_lexer": "ipython3",
   "version": "3.7.4"
  }
 },
 "nbformat": 4,
 "nbformat_minor": 2
}
